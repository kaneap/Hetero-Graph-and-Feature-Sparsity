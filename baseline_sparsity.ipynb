{
 "cells": [
  {
   "cell_type": "code",
   "execution_count": 3,
   "metadata": {},
   "outputs": [
    {
     "name": "stdout",
     "output_type": "stream",
     "text": [
      "HeteroData(\n",
      "  author={\n",
      "    x=[4057, 334],\n",
      "    y=[4057],\n",
      "    train_mask=[4057],\n",
      "    val_mask=[4057],\n",
      "    test_mask=[4057],\n",
      "  },\n",
      "  paper={ x=[14328, 4231] },\n",
      "  term={ x=[7723, 50] },\n",
      "  conference={\n",
      "    num_nodes=20,\n",
      "    x=[20, 1],\n",
      "  },\n",
      "  (author, to, paper)={ edge_index=[2, 19645] },\n",
      "  (paper, to, author)={ edge_index=[2, 19645] },\n",
      "  (paper, to, term)={ edge_index=[2, 85810] },\n",
      "  (paper, to, conference)={ edge_index=[2, 14328] },\n",
      "  (term, to, paper)={ edge_index=[2, 85810] },\n",
      "  (conference, to, paper)={ edge_index=[2, 14328] }\n",
      ")\n"
     ]
    },
    {
     "name": "stderr",
     "output_type": "stream",
     "text": [
      "/home/iailab42/kanea0/my-env/lib/python3.10/site-packages/torch_geometric/data/dataset.py:238: FutureWarning: You are using `torch.load` with `weights_only=False` (the current default value), which uses the default pickle module implicitly. It is possible to construct malicious pickle data which will execute arbitrary code during unpickling (See https://github.com/pytorch/pytorch/blob/main/SECURITY.md#untrusted-models for more details). In a future release, the default value for `weights_only` will be flipped to `True`. This limits the functions that could be executed during unpickling. Arbitrary objects will no longer be allowed to be loaded via this mode unless they are explicitly allowlisted by the user via `torch.serialization.add_safe_globals`. We recommend you start setting `weights_only=True` for any use case where you don't have full control of the loaded file. Please open an issue on GitHub for any issues related to this experimental feature.\n",
      "  if osp.exists(f) and torch.load(f) != _repr(self.pre_transform):\n",
      "/home/iailab42/kanea0/my-env/lib/python3.10/site-packages/torch_geometric/data/dataset.py:246: FutureWarning: You are using `torch.load` with `weights_only=False` (the current default value), which uses the default pickle module implicitly. It is possible to construct malicious pickle data which will execute arbitrary code during unpickling (See https://github.com/pytorch/pytorch/blob/main/SECURITY.md#untrusted-models for more details). In a future release, the default value for `weights_only` will be flipped to `True`. This limits the functions that could be executed during unpickling. Arbitrary objects will no longer be allowed to be loaded via this mode unless they are explicitly allowlisted by the user via `torch.serialization.add_safe_globals`. We recommend you start setting `weights_only=True` for any use case where you don't have full control of the loaded file. Please open an issue on GitHub for any issues related to this experimental feature.\n",
      "  if osp.exists(f) and torch.load(f) != _repr(self.pre_filter):\n",
      "/home/iailab42/kanea0/my-env/lib/python3.10/site-packages/torch_geometric/io/fs.py:215: FutureWarning: You are using `torch.load` with `weights_only=False` (the current default value), which uses the default pickle module implicitly. It is possible to construct malicious pickle data which will execute arbitrary code during unpickling (See https://github.com/pytorch/pytorch/blob/main/SECURITY.md#untrusted-models for more details). In a future release, the default value for `weights_only` will be flipped to `True`. This limits the functions that could be executed during unpickling. Arbitrary objects will no longer be allowed to be loaded via this mode unless they are explicitly allowlisted by the user via `torch.serialization.add_safe_globals`. We recommend you start setting `weights_only=True` for any use case where you don't have full control of the loaded file. Please open an issue on GitHub for any issues related to this experimental feature.\n",
      "  return torch.load(f, map_location)\n"
     ]
    }
   ],
   "source": [
    "import torch\n",
    "import torch.nn.functional as F\n",
    "\n",
    "import torch_geometric.transforms as T\n",
    "from torch_geometric import datasets\n",
    "\n",
    "import numpy as np\n",
    "import random\n",
    "\n",
    "import matplotlib.pyplot as plt\n",
    "from utils.graph_polluters import remove_edges, remove_features\n",
    "\n",
    "##from modules.heteroGNN import HeteroGNN\n",
    "#import graph_polluters\n",
    "from tqdm import tqdm\n",
    "\n",
    "# We initialize conference node features with a single one-vector as feature:\n",
    "dataset = dataset = datasets.DBLP('./data/dblp', transform=T.Constant(node_types='conference'))\n",
    "data = dataset[0]\n",
    "print(data)\n",
    "\n",
    "\n",
    "def set_seed(seed=42):\n",
    "    #torch.backends.cudnn.benchmark = False\n",
    "    torch.backends.cudnn.deterministic = True\n",
    "    #torch.use_deterministic_algorithms(True)\n",
    "    np.random.seed(seed)\n",
    "    torch.manual_seed(seed) \n",
    "    random.seed(seed)\n",
    "    torch.cuda.manual_seed_all(seed)"
   ]
  },
  {
   "cell_type": "markdown",
   "metadata": {},
   "source": [
    "# Model\n",
    "Here we define our model and Training Loop"
   ]
  },
  {
   "cell_type": "code",
   "execution_count": 4,
   "metadata": {},
   "outputs": [],
   "source": [
    "from modules.heteroGNN import HeteroGNN\n",
    "\n",
    "# %%\n",
    "device = torch.device('cuda' if torch.cuda.is_available() else 'cpu')\n",
    "def init_parameters(data):\n",
    "    model = HeteroGNN(data.metadata(), hidden_channels=10, out_channels=4, num_layers=2, target_node_type='author')\n",
    "    #model = HGT(hidden_channels=64, out_channels=4, num_heads=2, num_layers=3, data=data)\n",
    "    data, model = data.to(device), model.to(device)\n",
    "    with torch.no_grad():  # Initialize lazy modules.\n",
    "        out = model(data.x_dict, data.edge_index_dict)\n",
    "    optimizer = torch.optim.Adam(model.parameters(), lr=0.005, weight_decay=0.001)\n",
    "    return model, optimizer\n",
    "\n",
    "# %%\n",
    "def train(data, model, optimizer):\n",
    "    model.train()\n",
    "    optimizer.zero_grad()\n",
    "    out = model(data.x_dict, data.edge_index_dict)\n",
    "    mask = data['author'].train_mask\n",
    "    loss = F.cross_entropy(out[mask], data['author'].y[mask])\n",
    "    loss.backward()\n",
    "    optimizer.step()\n",
    "    return float(loss)\n",
    "\n",
    "\n",
    "@torch.no_grad()\n",
    "def test(data, model):\n",
    "    model.eval()\n",
    "    pred = model(data.x_dict, data.edge_index_dict).argmax(dim=-1)\n",
    "\n",
    "    accs = []\n",
    "    for split in ['train_mask', 'val_mask', 'test_mask']:\n",
    "        mask = data['author'][split]\n",
    "        acc = (pred[mask] == data['author'].y[mask]).sum() / mask.sum()\n",
    "        accs.append(float(acc))\n",
    "    return accs"
   ]
  },
  {
   "cell_type": "markdown",
   "metadata": {},
   "source": [
    "# Tests\n",
    "We see how the model copes with the various pollution in the graph"
   ]
  },
  {
   "cell_type": "markdown",
   "metadata": {},
   "source": [
    "## Baseline"
   ]
  },
  {
   "cell_type": "code",
   "execution_count": 5,
   "metadata": {},
   "outputs": [
    {
     "name": "stdout",
     "output_type": "stream",
     "text": [
      "Baseline: Best Epoch: 3593 Train: 1.0000, Val: 0.8175, Test: 0.8219\n"
     ]
    }
   ],
   "source": [
    "set_seed()\n",
    "dataset_copy = dataset.copy()\n",
    "data_copy = dataset_copy[0]\n",
    "data_copy.to(device)\n",
    "model, optimizer = init_parameters(data_copy)\n",
    "train_accs, val_accs, test_accs = [],[],[]\n",
    "for epoch in range(5000):\n",
    "    loss = train(data=data_copy, model=model, optimizer=optimizer)\n",
    "    train_acc, val_acc, test_acc = test(data = data_copy, model=model)\n",
    "    train_accs.append(train_acc)\n",
    "    val_accs.append(val_acc)\n",
    "    test_accs.append(test_acc)\n",
    "best_epoch = max(enumerate(val_accs),key=lambda x: x[1])[0]\n",
    "train_acc, val_acc, test_acc = train_accs[best_epoch], val_accs[best_epoch], test_accs[best_epoch]\n",
    "print(f'Baseline: Best Epoch: {best_epoch} Train: {train_acc:.4f}, '\n",
    "        f'Val: {val_acc:.4f}, Test: {test_acc:.4f}')"
   ]
  },
  {
   "cell_type": "markdown",
   "metadata": {},
   "source": [
    "## Remove Features"
   ]
  },
  {
   "cell_type": "code",
   "execution_count": null,
   "metadata": {},
   "outputs": [
    {
     "name": "stdout",
     "output_type": "stream",
     "text": [
      "50% dirty, Train: 1.0000, Val: 0.7300, Test: 0.7353\n"
     ]
    },
    {
     "data": {
      "image/png": "[encoded data removed]",
      "text/plain": [
       "<Figure size 640x480 with 1 Axes>"
      ]
     },
     "metadata": {},
     "output_type": "display_data"
    }
   ],
   "source": [
    "print_precentages = [50]\n",
    "\n",
    "test_acc_hist = []\n",
    "for percent in range(101):\n",
    "    set_seed()\n",
    "    dataset_copy = dataset.copy()\n",
    "    data_copy = dataset_copy[0]\n",
    "    pollution_probability = percent/100\n",
    "    remove_features(data=data_copy, probability=pollution_probability)\n",
    "    data_copy.to(device)\n",
    "    model, optimizer = init_parameters(data_copy)\n",
    "    train_accs, val_accs, test_accs = [],[],[]\n",
    "    for epoch in range(1, 100):\n",
    "        loss = train(data=data_copy, model=model, optimizer=optimizer)\n",
    "        train_acc, val_acc, test_acc = test(data = data_copy, model=model)\n",
    "        train_accs.append(train_acc)\n",
    "        val_accs.append(val_acc)\n",
    "        test_accs.append(test_acc)\n",
    "    best_epoch = max(enumerate(val_accs),key=lambda x: x[1])[0]\n",
    "    train_acc, val_acc, test_acc = train_accs[best_epoch], val_accs[best_epoch], test_accs[best_epoch]\n",
    "    if percent in print_precentages:\n",
    "        print(f'{percent}% dirty, Train: {train_acc:.4f}, Val: {val_acc:.4f}, Test: {test_acc:.4f}')   \n",
    "    test_acc_hist.append(test_acc)\n",
    "plt.plot(range(101), test_acc_hist)\n",
    "plt.ylabel('Accuracy')\n",
    "plt.xlabel('% Features Removed')\n",
    "plt.show()"
   ]
  },
  {
   "cell_type": "code",
   "execution_count": 9,
   "metadata": {},
   "outputs": [
    {
     "name": "stdout",
     "output_type": "stream",
     "text": [
      "50% dirty, Train: 1.0000, Val: 0.7525, Test: 0.7467\n"
     ]
    },
    {
     "data": {
      "image/png": "[encoded data removed]",
      "text/plain": [
       "<Figure size 640x480 with 1 Axes>"
      ]
     },
     "metadata": {},
     "output_type": "display_data"
    }
   ],
   "source": [
    "print_precentages = [50]\n",
    "\n",
    "test_acc_hist = []\n",
    "for percent in range(101):\n",
    "    set_seed()\n",
    "    dataset_copy = dataset.copy()\n",
    "    data_copy = dataset_copy[0]\n",
    "    pollution_probability = percent/100\n",
    "    remove_features(data=data_copy, probability=pollution_probability, node_types=['author', 'paper'])\n",
    "    data_copy.to(device)\n",
    "    model, optimizer = init_parameters(data_copy)\n",
    "    train_accs, val_accs, test_accs = [],[],[]\n",
    "    for epoch in range(1, 100):\n",
    "        loss = train(data=data_copy, model=model, optimizer=optimizer)\n",
    "        train_acc, val_acc, test_acc = test(data = data_copy, model=model)\n",
    "        train_accs.append(train_acc)\n",
    "        val_accs.append(val_acc)\n",
    "        test_accs.append(test_acc)\n",
    "    best_epoch = max(enumerate(val_accs),key=lambda x: x[1])[0]\n",
    "    train_acc, val_acc, test_acc = train_accs[best_epoch], val_accs[best_epoch], test_accs[best_epoch]\n",
    "    if percent in print_precentages:\n",
    "        print(f'{percent}% dirty, Train: {train_acc:.4f}, Val: {val_acc:.4f}, Test: {test_acc:.4f}')   \n",
    "    test_acc_hist.append(test_acc)\n",
    "plt.plot(range(101), test_acc_hist)\n",
    "plt.ylabel('Accuracy')\n",
    "plt.xlabel('Fraction Features Removed')\n",
    "plt.show()"
   ]
  },
  {
   "cell_type": "markdown",
   "metadata": {},
   "source": [
    "## Randomize Features"
   ]
  },
  {
   "cell_type": "code",
   "execution_count": 7,
   "metadata": {},
   "outputs": [
    {
     "name": "stderr",
     "output_type": "stream",
     "text": [
      "  0%|          | 0/100 [00:00<?, ?it/s]\n"
     ]
    },
    {
     "ename": "NameError",
     "evalue": "name 'randomize_features' is not defined",
     "output_type": "error",
     "traceback": [
      "\u001b[0;31m---------------------------------------------------------------------------\u001b[0m",
      "\u001b[0;31mNameError\u001b[0m                                 Traceback (most recent call last)",
      "Cell \u001b[0;32mIn[7], line 8\u001b[0m\n\u001b[1;32m      6\u001b[0m data_copy \u001b[38;5;241m=\u001b[39m dataset_copy[\u001b[38;5;241m0\u001b[39m]\n\u001b[1;32m      7\u001b[0m pollution_probability \u001b[38;5;241m=\u001b[39m percent\u001b[38;5;241m/\u001b[39m\u001b[38;5;241m100\u001b[39m\n\u001b[0;32m----> 8\u001b[0m \u001b[43mrandomize_features\u001b[49m(data\u001b[38;5;241m=\u001b[39mdata_copy, probability\u001b[38;5;241m=\u001b[39mpollution_probability)\n\u001b[1;32m      9\u001b[0m data_copy\u001b[38;5;241m.\u001b[39mto(device)\n\u001b[1;32m     10\u001b[0m model, optimizer \u001b[38;5;241m=\u001b[39m init_parameters(data_copy)\n",
      "\u001b[0;31mNameError\u001b[0m: name 'randomize_features' is not defined"
     ]
    }
   ],
   "source": [
    "print_precentages = [50]\n",
    "test_acc_hist = []\n",
    "for percent in tqdm(range(100)):\n",
    "    set_seed()\n",
    "    dataset_copy = dataset.copy()\n",
    "    data_copy = dataset_copy[0]\n",
    "    pollution_probability = percent/100\n",
    "    randomize_features(data=data_copy, probability=pollution_probability)\n",
    "    data_copy.to(device)\n",
    "    model, optimizer = init_parameters(data_copy)\n",
    "    train_accs, val_accs, test_accs = [],[],[]\n",
    "    for epoch in range(1, 100):\n",
    "        loss = train(data=data_copy, model=model, optimizer=optimizer)\n",
    "        train_acc, val_acc, test_acc = test(data = data_copy, model=model)\n",
    "        train_accs.append(train_acc)\n",
    "        val_accs.append(val_acc)\n",
    "        test_accs.append(test_acc)\n",
    "    best_epoch = max(enumerate(val_accs),key=lambda x: x[1])[0]\n",
    "    train_acc, val_acc, test_acc = train_accs[best_epoch], val_accs[best_epoch], test_accs[best_epoch]\n",
    "    if percent in print_precentages:\n",
    "        print(f'{percent}% dirty, Train: {train_acc:.4f}, Val: {val_acc:.4f}, Test: {test_acc:.4f}')   \n",
    "    test_acc_hist.append(test_acc)\n",
    "plt.plot(range(100), test_acc_hist)\n",
    "plt.ylabel('Validation Accuracy')\n",
    "plt.xlabel('Fraction Features Randomized')\n",
    "plt.show()"
   ]
  },
  {
   "cell_type": "code",
   "execution_count": 1,
   "metadata": {},
   "outputs": [
    {
     "ename": "NameError",
     "evalue": "name 'tqdm' is not defined",
     "output_type": "error",
     "traceback": [
      "\u001b[0;31m---------------------------------------------------------------------------\u001b[0m",
      "\u001b[0;31mNameError\u001b[0m                                 Traceback (most recent call last)",
      "Cell \u001b[0;32mIn[1], line 3\u001b[0m\n\u001b[1;32m      1\u001b[0m print_precentages \u001b[38;5;241m=\u001b[39m [\u001b[38;5;241m50\u001b[39m]\n\u001b[1;32m      2\u001b[0m test_acc_hist \u001b[38;5;241m=\u001b[39m []\n\u001b[0;32m----> 3\u001b[0m \u001b[38;5;28;01mfor\u001b[39;00m percent \u001b[38;5;129;01min\u001b[39;00m \u001b[43mtqdm\u001b[49m(\u001b[38;5;28mrange\u001b[39m(\u001b[38;5;241m100\u001b[39m)):\n\u001b[1;32m      4\u001b[0m     set_seed()\n\u001b[1;32m      5\u001b[0m     dataset_copy \u001b[38;5;241m=\u001b[39m dataset\u001b[38;5;241m.\u001b[39mcopy()\n",
      "\u001b[0;31mNameError\u001b[0m: name 'tqdm' is not defined"
     ]
    }
   ],
   "source": [
    "print_precentages = [50]\n",
    "test_acc_hist = []\n",
    "for percent in tqdm(range(100)):\n",
    "    set_seed()\n",
    "    dataset_copy = dataset.copy()\n",
    "    data_copy = dataset_copy[0]\n",
    "    pollution_probability = percent/100\n",
    "    graph_polluters.randomize_features(data=data_copy, probability=pollution_probability)\n",
    "    data_copy.to(device)\n",
    "    model, optimizer = init_parameters(data_copy)\n",
    "    train_accs, val_accs, test_accs = [],[],[]\n",
    "    for epoch in range(1, 100):\n",
    "        loss = train(data=data_copy, model=model, optimizer=optimizer)\n",
    "        train_acc, val_acc, test_acc = test(data = data_copy, model=model)\n",
    "        train_accs.append(train_acc)\n",
    "        val_accs.append(val_acc)\n",
    "        test_accs.append(test_acc)\n",
    "    best_epoch = max(enumerate(val_accs),key=lambda x: x[1])[0]\n",
    "    train_acc, val_acc, test_acc = train_accs[best_epoch], val_accs[best_epoch], test_accs[best_epoch]\n",
    "    if percent in print_precentages:\n",
    "        print(f'{percent}% dirty, Train: {train_acc:.4f}, Val: {val_acc:.4f}, Test: {test_acc:.4f}')   \n",
    "    test_acc_hist.append(test_acc)\n",
    "plt.plot(range(100), test_acc_hist)\n",
    "plt.ylabel('Validation Accuracy')\n",
    "plt.xlabel('Fraction Features Randomized')\n",
    "plt.show()"
   ]
  },
  {
   "cell_type": "markdown",
   "metadata": {},
   "source": [
    "## Remove Edges"
   ]
  },
  {
   "cell_type": "code",
   "execution_count": 11,
   "metadata": {},
   "outputs": [
    {
     "name": "stderr",
     "output_type": "stream",
     "text": [
      " 16%|█▌        | 16/100 [01:03<05:18,  3.79s/it]"
     ]
    }
   ],
   "source": [
    "print_precentages = [50]\n",
    "test_acc_hist = []\n",
    "for percent in tqdm(range(100)):\n",
    "    set_seed()\n",
    "    dataset_copy = dataset.copy()\n",
    "    data_copy = dataset_copy[0]\n",
    "    pollution_probability = percent/100\n",
    "    data_copy = remove_edges(data_copy, pollution_probability)\n",
    "    model, optimizer = init_parameters(data_copy)\n",
    "    train_accs, val_accs, test_accs = [],[],[]\n",
    "    for epoch in range(100):\n",
    "        loss = train(data=data_copy, model=model, optimizer=optimizer)\n",
    "        train_acc, val_acc, test_acc = test(data = data_copy, model=model)\n",
    "        train_accs.append(train_acc)\n",
    "        val_accs.append(val_acc)\n",
    "        test_accs.append(test_acc)\n",
    "    best_epoch = max(enumerate(val_accs),key=lambda x: x[1])[0]\n",
    "    train_acc, val_acc, test_acc = train_accs[best_epoch], val_accs[best_epoch], test_accs[best_epoch]\n",
    "    if percent in print_precentages:\n",
    "        print(f'{percent}% dirty, Train: {train_acc:.4f}, Val: {val_acc:.4f}, Test: {test_acc:.4f}')   \n",
    "    test_acc_hist.append(test_acc)\n",
    "plt.plot(range(100), test_acc_hist)\n",
    "plt.ylabel('Accuracy')\n",
    "plt.xlabel('% Edges Removed')\n",
    "plt.show()"
   ]
  },
  {
   "cell_type": "code",
   "execution_count": 7,
   "metadata": {},
   "outputs": [
    {
     "name": "stderr",
     "output_type": "stream",
     "text": [
      " 51%|█████     | 51/100 [03:15<02:34,  3.15s/it]"
     ]
    },
    {
     "name": "stdout",
     "output_type": "stream",
     "text": [
      "50% dirty, Train: 0.9250, Val: 0.5750, Test: 0.6027\n"
     ]
    },
    {
     "name": "stderr",
     "output_type": "stream",
     "text": [
      "100%|██████████| 100/100 [05:09<00:00,  3.09s/it]\n"
     ]
    },
    {
     "data": {
      "image/png": "[encoded data removed]",
      "text/plain": [
       "<Figure size 640x480 with 1 Axes>"
      ]
     },
     "metadata": {},
     "output_type": "display_data"
    }
   ],
   "source": [
    "print_precentages = [50]\n",
    "test_acc_hist = []\n",
    "for percent in tqdm(range(100)):\n",
    "    set_seed()\n",
    "    dataset_copy = dataset.copy()\n",
    "    data_copy = dataset_copy[0]\n",
    "    pollution_probability = percent/100\n",
    "    data_copy = remove_edges(data_copy, pollution_probability)\n",
    "    remove_features(data=data_copy, probability=pollution_probability)\n",
    "    data_copy.to(device)\n",
    "    model, optimizer = init_parameters(data_copy)\n",
    "    train_accs, val_accs, test_accs = [],[],[]\n",
    "    for epoch in range(1, 100):\n",
    "        loss = train(data=data_copy, model=model, optimizer=optimizer)\n",
    "        train_acc, val_acc, test_acc = test(data = data_copy, model=model)\n",
    "        train_accs.append(train_acc)\n",
    "        val_accs.append(val_acc)\n",
    "        test_accs.append(test_acc)\n",
    "    best_epoch = max(enumerate(val_accs),key=lambda x: x[1])[0]\n",
    "    train_acc, val_acc, test_acc = train_accs[best_epoch], val_accs[best_epoch], test_accs[best_epoch]\n",
    "    if percent in print_precentages:\n",
    "        print(f'{percent}% dirty, Train: {train_acc:.4f}, Val: {val_acc:.4f}, Test: {test_acc:.4f}')   \n",
    "    test_acc_hist.append(test_acc)\n",
    "plt.plot(range(100), test_acc_hist)\n",
    "plt.ylabel('Accuracy')\n",
    "plt.xlabel('% Features/Edges Removed')\n",
    "plt.show()"
   ]
  },
  {
   "cell_type": "code",
   "execution_count": 2,
   "metadata": {},
   "outputs": [],
   "source": [
    "a = torch.as_tensor([1,1,3,3,1,2])"
   ]
  },
  {
   "cell_type": "code",
   "execution_count": 3,
   "metadata": {},
   "outputs": [
    {
     "data": {
      "text/plain": [
       "tensor([0., 3., 1., 2.])"
      ]
     },
     "execution_count": 3,
     "metadata": {},
     "output_type": "execute_result"
    }
   ],
   "source": [
    "import torch_geometric.utils\n",
    "\n",
    "\n",
    "torch_geometric.utils.degree(a)"
   ]
  },
  {
   "cell_type": "code",
   "execution_count": 4,
   "metadata": {},
   "outputs": [
    {
     "data": {
      "text/plain": [
       "HeteroData(\n",
       "  author={\n",
       "    x=[4057, 334],\n",
       "    y=[4057],\n",
       "    train_mask=[4057],\n",
       "    val_mask=[4057],\n",
       "    test_mask=[4057],\n",
       "  },\n",
       "  paper={ x=[14328, 4231] },\n",
       "  term={ x=[7723, 50] },\n",
       "  conference={\n",
       "    num_nodes=20,\n",
       "    x=[20, 1],\n",
       "  },\n",
       "  (author, to, paper)={ edge_index=[2, 19645] },\n",
       "  (paper, to, author)={ edge_index=[2, 19645] },\n",
       "  (paper, to, term)={ edge_index=[2, 85810] },\n",
       "  (paper, to, conference)={ edge_index=[2, 14328] },\n",
       "  (term, to, paper)={ edge_index=[2, 85810] },\n",
       "  (conference, to, paper)={ edge_index=[2, 14328] }\n",
       ")"
      ]
     },
     "execution_count": 4,
     "metadata": {},
     "output_type": "execute_result"
    }
   ],
   "source": [
    "data"
   ]
  },
  {
   "cell_type": "code",
   "execution_count": 8,
   "metadata": {},
   "outputs": [
    {
     "data": {
      "text/plain": [
       "tensor([ 2., 10.,  3.,  ...,  1.,  1.,  1.])"
      ]
     },
     "execution_count": 8,
     "metadata": {},
     "output_type": "execute_result"
    }
   ],
   "source": [
    "torch_geometric.utils.degree(data[('author', 'to', 'paper')].edge_index[0])"
   ]
  },
  {
   "cell_type": "code",
   "execution_count": 10,
   "metadata": {},
   "outputs": [
    {
     "data": {
      "text/plain": [
       "['author', 'paper', 'term', 'conference']"
      ]
     },
     "execution_count": 10,
     "metadata": {},
     "output_type": "execute_result"
    }
   ],
   "source": [
    "data.node_types"
   ]
  },
  {
   "cell_type": "code",
   "execution_count": 26,
   "metadata": {},
   "outputs": [],
   "source": [
    "import torch.nn.functional as F\n",
    "\n",
    "def get_degrees_one_hot(data):\n",
    "    degrees = {}\n",
    "    for node_type in data.node_types:\n",
    "        degrees[node_type] = torch.zeros(data[node_type].x.shape[0])\n",
    "\n",
    "    for edge_type, edge_storage in data.edge_items():\n",
    "        out_node_type = edge_type[0]\n",
    "        edge_index = edge_storage['edge_index']\n",
    "        a = degrees[out_node_type]\n",
    "        degrees[out_node_type] += torch_geometric.utils.degree(edge_index[0], num_nodes=degrees[out_node_type].shape[0])\n",
    "\n",
    "    encodings = {}\n",
    "    for node_type in data.node_types:\n",
    "        encoded = F.one_hot(degrees[node_type].to(torch.int64))\n",
    "        non_empty_mask = encoded.abs().sum(dim=0).bool()\n",
    "        encodings[node_type] = encoded[:,non_empty_mask]\n",
    "\n",
    "    return encodings"
   ]
  },
  {
   "cell_type": "code",
   "execution_count": 27,
   "metadata": {},
   "outputs": [
    {
     "data": {
      "text/plain": [
       "{'author': tensor([ 2., 10.,  3.,  ...,  1.,  1.,  1.]),\n",
       " 'paper': tensor([ 7.,  9.,  9.,  ...,  8.,  7., 14.]),\n",
       " 'term': tensor([204.,  65.,  23.,  ...,   1.,   1.,   1.]),\n",
       " 'conference': tensor([1592.,  721.,  225.,  204.,  192.,  300., 1423.,  525.,  632., 1814.,\n",
       "          795.,  367.,  287.,  456.,  244., 1374., 1353., 1471.,  342.,   11.])}"
      ]
     },
     "execution_count": 27,
     "metadata": {},
     "output_type": "execute_result"
    }
   ],
   "source": [
    "degrees"
   ]
  },
  {
   "cell_type": "code",
   "execution_count": 3,
   "metadata": {},
   "outputs": [],
   "source": [
    "import torch\n"
   ]
  },
  {
   "cell_type": "code",
   "execution_count": 5,
   "metadata": {},
   "outputs": [],
   "source": [
    "buckets = torch.tensor([1,2,3,5,10] + list(range(20,50+1,10)))"
   ]
  },
  {
   "cell_type": "code",
   "execution_count": 6,
   "metadata": {},
   "outputs": [],
   "source": [
    "thing = torch.tensor([0,5,1,50,60,49,31])"
   ]
  },
  {
   "cell_type": "code",
   "execution_count": null,
   "metadata": {},
   "outputs": [],
   "source": [
    "torch.bucketize(thing,buckets)"
   ]
  },
  {
   "cell_type": "code",
   "execution_count": 2,
   "metadata": {},
   "outputs": [],
   "source": [
    "import torch"
   ]
  },
  {
   "cell_type": "code",
   "execution_count": 5,
   "metadata": {},
   "outputs": [],
   "source": [
    "a = torch.as_tensor([1,2,3,4])"
   ]
  },
  {
   "cell_type": "code",
   "execution_count": 6,
   "metadata": {},
   "outputs": [],
   "source": [
    "a = a * torch.eye(4)"
   ]
  },
  {
   "cell_type": "code",
   "execution_count": 7,
   "metadata": {},
   "outputs": [
    {
     "data": {
      "text/plain": [
       "tensor([[1., 0., 0., 0.],\n",
       "        [0., 2., 0., 0.],\n",
       "        [0., 0., 3., 0.],\n",
       "        [0., 0., 0., 4.]])"
      ]
     },
     "execution_count": 7,
     "metadata": {},
     "output_type": "execute_result"
    }
   ],
   "source": []
  },
  {
   "cell_type": "code",
   "execution_count": 9,
   "metadata": {},
   "outputs": [],
   "source": []
  },
  {
   "cell_type": "code",
   "execution_count": 10,
   "metadata": {},
   "outputs": [
    {
     "data": {
      "text/plain": [
       "tensor([[1.0000, 0.0000, 0.0000, 0.0000],\n",
       "        [0.0000, 1.1892, 0.0000, 0.0000],\n",
       "        [0.0000, 0.0000, 1.3161, 0.0000],\n",
       "        [0.0000, 0.0000, 0.0000, 1.4142]])"
      ]
     },
     "execution_count": 10,
     "metadata": {},
     "output_type": "execute_result"
    }
   ],
   "source": [
    "b"
   ]
  },
  {
   "cell_type": "code",
   "execution_count": 45,
   "metadata": {},
   "outputs": [],
   "source": [
    "edge_index=torch.as_tensor([[0,0,1,2,3,4,1,3,2,3,4,0],[1,3,2,3,4,0,0,0,1,2,3,4]])"
   ]
  },
  {
   "cell_type": "code",
   "execution_count": 35,
   "metadata": {},
   "outputs": [
    {
     "data": {
      "text/plain": [
       "tensor([[0., 0., 1., 2., 3., 4., 1., 3., 2., 3., 4., 0.],\n",
       "        [1., 3., 2., 3., 4., 0., 0., 0., 1., 2., 3., 4.]], dtype=torch.float64)"
      ]
     },
     "execution_count": 35,
     "metadata": {},
     "output_type": "execute_result"
    }
   ],
   "source": [
    "edge_index"
   ]
  },
  {
   "cell_type": "code",
   "execution_count": 3,
   "metadata": {},
   "outputs": [],
   "source": [
    "from torch_geometric import utils"
   ]
  },
  {
   "cell_type": "code",
   "execution_count": 33,
   "metadata": {},
   "outputs": [
    {
     "ename": "RuntimeError",
     "evalue": "scatter(): Expected dtype int64 for index",
     "output_type": "error",
     "traceback": [
      "\u001b[0;31m---------------------------------------------------------------------------\u001b[0m",
      "\u001b[0;31mRuntimeError\u001b[0m                              Traceback (most recent call last)",
      "Cell \u001b[0;32mIn[33], line 1\u001b[0m\n\u001b[0;32m----> 1\u001b[0m a \u001b[38;5;241m=\u001b[39m \u001b[43mutils\u001b[49m\u001b[38;5;241;43m.\u001b[39;49m\u001b[43mdegree\u001b[49m\u001b[43m(\u001b[49m\u001b[43medge_index\u001b[49m\u001b[43m[\u001b[49m\u001b[38;5;241;43m0\u001b[39;49m\u001b[43m]\u001b[49m\u001b[43m,\u001b[49m\u001b[43mdtype\u001b[49m\u001b[38;5;241;43m=\u001b[39;49m\u001b[38;5;28;43mfloat\u001b[39;49m\u001b[43m)\u001b[49m\n\u001b[1;32m      2\u001b[0m a \u001b[38;5;241m=\u001b[39m a \u001b[38;5;241m*\u001b[39m torch\u001b[38;5;241m.\u001b[39meye(a\u001b[38;5;241m.\u001b[39mshape[\u001b[38;5;241m0\u001b[39m])\n\u001b[1;32m      3\u001b[0m b \u001b[38;5;241m=\u001b[39m a\u001b[38;5;241m.\u001b[39mpow_(\u001b[38;5;241m-\u001b[39m\u001b[38;5;241m0.5\u001b[39m)\n",
      "File \u001b[0;32m/home/iailab42/kanea0/my-env/lib/python3.10/site-packages/torch_geometric/utils/_degree.py:31\u001b[0m, in \u001b[0;36mdegree\u001b[0;34m(index, num_nodes, dtype)\u001b[0m\n\u001b[1;32m     29\u001b[0m out \u001b[38;5;241m=\u001b[39m torch\u001b[38;5;241m.\u001b[39mzeros((N, ), dtype\u001b[38;5;241m=\u001b[39mdtype, device\u001b[38;5;241m=\u001b[39mindex\u001b[38;5;241m.\u001b[39mdevice)\n\u001b[1;32m     30\u001b[0m one \u001b[38;5;241m=\u001b[39m torch\u001b[38;5;241m.\u001b[39mones((index\u001b[38;5;241m.\u001b[39msize(\u001b[38;5;241m0\u001b[39m), ), dtype\u001b[38;5;241m=\u001b[39mout\u001b[38;5;241m.\u001b[39mdtype, device\u001b[38;5;241m=\u001b[39mout\u001b[38;5;241m.\u001b[39mdevice)\n\u001b[0;32m---> 31\u001b[0m \u001b[38;5;28;01mreturn\u001b[39;00m \u001b[43mout\u001b[49m\u001b[38;5;241;43m.\u001b[39;49m\u001b[43mscatter_add_\u001b[49m\u001b[43m(\u001b[49m\u001b[38;5;241;43m0\u001b[39;49m\u001b[43m,\u001b[49m\u001b[43m \u001b[49m\u001b[43mindex\u001b[49m\u001b[43m,\u001b[49m\u001b[43m \u001b[49m\u001b[43mone\u001b[49m\u001b[43m)\u001b[49m\n",
      "\u001b[0;31mRuntimeError\u001b[0m: scatter(): Expected dtype int64 for index"
     ]
    }
   ],
   "source": [
    "a = utils.degree(edge_index[0])\n",
    "a = a * torch.eye(a.shape[0])\n",
    "b = a.pow_(-0.5)\n",
    "b = b.masked_fill_(b==float(\"inf\"),0)"
   ]
  },
  {
   "cell_type": "code",
   "execution_count": 27,
   "metadata": {},
   "outputs": [
    {
     "data": {
      "text/plain": [
       "tensor([[0.5774, 0.0000, 0.0000, 0.0000, 0.0000],\n",
       "        [0.0000, 0.7071, 0.0000, 0.0000, 0.0000],\n",
       "        [0.0000, 0.0000, 0.7071, 0.0000, 0.0000],\n",
       "        [0.0000, 0.0000, 0.0000, 0.5774, 0.0000],\n",
       "        [0.0000, 0.0000, 0.0000, 0.0000, 0.7071]])"
      ]
     },
     "execution_count": 27,
     "metadata": {},
     "output_type": "execute_result"
    }
   ],
   "source": [
    "b = b."
   ]
  },
  {
   "cell_type": "code",
   "execution_count": 16,
   "metadata": {},
   "outputs": [],
   "source": [
    "edge_index_d = utils.to_dense_adj(edge_index)"
   ]
  },
  {
   "cell_type": "code",
   "execution_count": 47,
   "metadata": {},
   "outputs": [],
   "source": [
    "a_norm = b @ edge_index_d @ b"
   ]
  },
  {
   "cell_type": "code",
   "execution_count": 48,
   "metadata": {},
   "outputs": [
    {
     "data": {
      "text/plain": [
       "tensor([[[0.0000, 0.4082, 0.0000, 0.3333, 0.4082],\n",
       "         [0.4082, 0.0000, 0.5000, 0.0000, 0.0000],\n",
       "         [0.0000, 0.5000, 0.0000, 0.4082, 0.0000],\n",
       "         [0.3333, 0.0000, 0.4082, 0.0000, 0.4082],\n",
       "         [0.4082, 0.0000, 0.0000, 0.4082, 0.0000]]])"
      ]
     },
     "execution_count": 48,
     "metadata": {},
     "output_type": "execute_result"
    }
   ],
   "source": [
    "a_norm"
   ]
  },
  {
   "cell_type": "code",
   "execution_count": 18,
   "metadata": {},
   "outputs": [],
   "source": [
    "import torch.sparse"
   ]
  },
  {
   "cell_type": "code",
   "execution_count": 42,
   "metadata": {},
   "outputs": [],
   "source": [
    "features = torch.ones(5,4)"
   ]
  },
  {
   "cell_type": "code",
   "execution_count": 43,
   "metadata": {},
   "outputs": [
    {
     "data": {
      "text/plain": [
       "tensor([[[1.1498, 1.1498, 1.1498, 1.1498],\n",
       "         [0.9082, 0.9082, 0.9082, 0.9082],\n",
       "         [0.9082, 0.9082, 0.9082, 0.9082],\n",
       "         [1.1498, 1.1498, 1.1498, 1.1498],\n",
       "         [0.8165, 0.8165, 0.8165, 0.8165]]])"
      ]
     },
     "execution_count": 43,
     "metadata": {},
     "output_type": "execute_result"
    }
   ],
   "source": [
    "a_norm @ features"
   ]
  },
  {
   "cell_type": "code",
   "execution_count": 46,
   "metadata": {},
   "outputs": [
    {
     "data": {
      "text/plain": [
       "(tensor([[0, 0, 1, 2, 3, 4, 1, 3, 2, 3, 4, 0],\n",
       "         [1, 3, 2, 3, 4, 0, 0, 0, 1, 2, 3, 4]]),\n",
       " tensor([0.4082, 0.3333, 0.5000, 0.4082, 0.4082, 0.4082, 0.4082, 0.3333, 0.5000,\n",
       "         0.4082, 0.4082, 0.4082]))"
      ]
     },
     "execution_count": 46,
     "metadata": {},
     "output_type": "execute_result"
    }
   ],
   "source": [
    "from enhancements.feature_prop_2 import get_symmetrically_normalized_adjacency\n",
    "get_symmetrically_normalized_adjacency(edge_index,5)"
   ]
  },
  {
   "cell_type": "code",
   "execution_count": 12,
   "metadata": {},
   "outputs": [],
   "source": [
    "ei_0 = utils.to_torch_sparse_tensor(data[('author', 'to', 'paper')].edge_index, size=(4057, 14328))\n",
    "ei_1 = utils.to_torch_sparse_tensor(data[('paper', 'to', 'author')].edge_index, size=(14328, 4057))"
   ]
  },
  {
   "cell_type": "code",
   "execution_count": 13,
   "metadata": {},
   "outputs": [
    {
     "data": {
      "text/plain": [
       "tensor(indices=tensor([[    0,     0,     1,  ...,  4054,  4055,  4056],\n",
       "                       [ 2364,  6457,  2365,  ..., 13891, 13891, 13892]]),\n",
       "       values=tensor([1., 1., 1.,  ..., 1., 1., 1.]),\n",
       "       size=(4057, 14328), nnz=19645, layout=torch.sparse_coo)"
      ]
     },
     "execution_count": 13,
     "metadata": {},
     "output_type": "execute_result"
    }
   ],
   "source": [
    "ei_0"
   ]
  },
  {
   "cell_type": "code",
   "execution_count": 14,
   "metadata": {},
   "outputs": [
    {
     "name": "stderr",
     "output_type": "stream",
     "text": [
      "/tmp/ipykernel_206983/3918296752.py:1: UserWarning: Sparse CSR tensor support is in beta state. If you miss a functionality in the sparse tensor support, please submit a feature request to https://github.com/pytorch/pytorch/issues. (Triggered internally at ../aten/src/ATen/SparseCsrTensorImpl.cpp:53.)\n",
      "  torch.sparse.mm(ei_0, ei_1)\n"
     ]
    },
    {
     "data": {
      "text/plain": [
       "tensor(indices=tensor([[   0,    1,    1,  ..., 4055, 4056, 4056],\n",
       "                       [   0,    1,    5,  ..., 4055, 1396, 4056]]),\n",
       "       values=tensor([ 2., 10.,  1.,  ...,  1.,  1.,  1.]),\n",
       "       size=(4057, 4057), nnz=11113, layout=torch.sparse_coo)"
      ]
     },
     "execution_count": 14,
     "metadata": {},
     "output_type": "execute_result"
    }
   ],
   "source": [
    "torch.sparse.mm(ei_0, ei_1)"
   ]
  },
  {
   "cell_type": "code",
   "execution_count": 7,
   "metadata": {},
   "outputs": [],
   "source": [
    "from torch_geometric import utils\n",
    "import torch\n",
    "edge_index = torch.as_tensor([[4,1,2,3,0,2,1],[0,0,0,0,1,1,2]])\n",
    "\n",
    "_, a, _, _ = utils.k_hop_subgraph(0, 1, edge_index, directed=True, flow='source_to_target')"
   ]
  },
  {
   "cell_type": "code",
   "execution_count": 13,
   "metadata": {},
   "outputs": [
    {
     "data": {
      "text/plain": [
       "torch.Size([2, 7])"
      ]
     },
     "execution_count": 13,
     "metadata": {},
     "output_type": "execute_result"
    }
   ],
   "source": [
    "edge_index.shape"
   ]
  },
  {
   "cell_type": "code",
   "execution_count": 14,
   "metadata": {},
   "outputs": [
    {
     "data": {
      "text/plain": [
       "tensor([0, 0, 0, 0, 1, 1, 2])"
      ]
     },
     "execution_count": 14,
     "metadata": {},
     "output_type": "execute_result"
    }
   ],
   "source": [
    "edge_index[1]"
   ]
  },
  {
   "cell_type": "code",
   "execution_count": 49,
   "metadata": {},
   "outputs": [],
   "source": [
    "a = torch.as_tensor([[1.],[99.]])\n",
    "b = torch.as_tensor([[1.,2.,3.],[1.,1.,1.]])"
   ]
  },
  {
   "cell_type": "code",
   "execution_count": 50,
   "metadata": {},
   "outputs": [
    {
     "data": {
      "text/plain": [
       "torch.Size([2, 1])"
      ]
     },
     "execution_count": 50,
     "metadata": {},
     "output_type": "execute_result"
    }
   ],
   "source": [
    "a.shape"
   ]
  },
  {
   "cell_type": "code",
   "execution_count": 42,
   "metadata": {},
   "outputs": [],
   "source": [
    "c = torch.zeros_like(b)"
   ]
  },
  {
   "cell_type": "code",
   "execution_count": 51,
   "metadata": {},
   "outputs": [
    {
     "data": {
      "text/plain": [
       "tensor([[ 1.,  2.,  3.,  1.],\n",
       "        [ 1.,  1.,  1., 99.]])"
      ]
     },
     "execution_count": 51,
     "metadata": {},
     "output_type": "execute_result"
    }
   ],
   "source": [
    "torch.cat([b,a], dim=1)"
   ]
  },
  {
   "cell_type": "code",
   "execution_count": 31,
   "metadata": {},
   "outputs": [
    {
     "data": {
      "text/plain": [
       "0.9999998807907104"
      ]
     },
     "execution_count": 31,
     "metadata": {},
     "output_type": "execute_result"
    }
   ],
   "source": [
    "torch.cosine_similarity(a,b,dim=1)[0].item()"
   ]
  },
  {
   "cell_type": "code",
   "execution_count": 34,
   "metadata": {},
   "outputs": [
    {
     "data": {
      "text/plain": [
       "HeteroData(\n",
       "  author={\n",
       "    x=[4057, 334],\n",
       "    y=[4057],\n",
       "    train_mask=[4057],\n",
       "    val_mask=[4057],\n",
       "    test_mask=[4057],\n",
       "  },\n",
       "  paper={ x=[14328, 4231] },\n",
       "  term={ x=[7723, 50] },\n",
       "  conference={\n",
       "    num_nodes=20,\n",
       "    x=[20, 1],\n",
       "  },\n",
       "  (author, to, paper)={ edge_index=[2, 19645] },\n",
       "  (paper, to, author)={ edge_index=[2, 19645] },\n",
       "  (paper, to, term)={ edge_index=[2, 85810] },\n",
       "  (paper, to, conference)={ edge_index=[2, 14328] },\n",
       "  (term, to, paper)={ edge_index=[2, 85810] },\n",
       "  (conference, to, paper)={ edge_index=[2, 14328] }\n",
       ")"
      ]
     },
     "execution_count": 34,
     "metadata": {},
     "output_type": "execute_result"
    }
   ],
   "source": [
    "data"
   ]
  },
  {
   "cell_type": "code",
   "execution_count": 35,
   "metadata": {},
   "outputs": [
    {
     "data": {
      "text/plain": [
       "{'edge_index': tensor([[    0,     0,     1,  ...,  4054,  4055,  4056],\n",
       "        [ 2364,  6457,  2365,  ..., 13891, 13891, 13892]])}"
      ]
     },
     "execution_count": 35,
     "metadata": {},
     "output_type": "execute_result"
    }
   ],
   "source": [
    "data[('author','to','paper')].ap"
   ]
  }
 ],
 "metadata": {
  "kernelspec": {
   "display_name": "Python 3 (ipykernel)",
   "language": "python",
   "name": "python3"
  },
  "language_info": {
   "codemirror_mode": {
    "name": "ipython",
    "version": 3
   },
   "file_extension": ".py",
   "mimetype": "text/x-python",
   "name": "python",
   "nbconvert_exporter": "python",
   "pygments_lexer": "ipython3",
   "version": "3.10.14"
  }
 },
 "nbformat": 4,
 "nbformat_minor": 2
}
