{
 "cells": [
  {
   "cell_type": "code",
   "execution_count": 12,
   "metadata": {},
   "outputs": [],
   "source": [
    "import torch\n",
    "from torch_geometric.datasets import DBLP\n",
    "from torch_geometric.utils import negative_sampling, to_dense_adj\n",
    "from edge_predictor import EdgePredictor\n",
    "\n",
    "import torch_geometric.transforms as T\n",
    "import torch.nn.functional as F\n",
    "import graph_polluters\n",
    "import graph_learning\n",
    "import matplotlib.pyplot as plt\n",
    "from copy import deepcopy\n",
    "\n",
    "path = './data/dblp'\n",
    "# We initialize conference node features with a single one-vector as feature:\n",
    "dataset = DBLP(path, transform=T.Constant(node_types='conference'))\n",
    "data = dataset[0]\n",
    "device = torch.device('cuda' if torch.cuda.is_available() else 'cpu')"
   ]
  },
  {
   "cell_type": "markdown",
   "metadata": {},
   "source": [
    "## Get conferences where authors have had papers in"
   ]
  },
  {
   "cell_type": "code",
   "execution_count": 3,
   "metadata": {},
   "outputs": [],
   "source": [
    "author_to_paper = to_dense_adj(data['author', 'to', 'paper'].edge_index)[:,:4057,:].squeeze().detach().clone()\n",
    "paper_to_conference = to_dense_adj(data['paper', 'to', 'conference'].edge_index)[:,:,:20].squeeze().detach().clone()"
   ]
  },
  {
   "cell_type": "code",
   "execution_count": 4,
   "metadata": {},
   "outputs": [],
   "source": [
    "author_to_conference = author_to_paper @ paper_to_conference"
   ]
  },
  {
   "cell_type": "markdown",
   "metadata": {},
   "source": [
    "## Use cosine similarity to tell wheter to add new edge"
   ]
  },
  {
   "cell_type": "code",
   "execution_count": 5,
   "metadata": {},
   "outputs": [],
   "source": [
    "def make_similar_edges(adjacency_matrix, min_similarity):\n",
    "    adjacency_matrix = adjacency_matrix.to(device)\n",
    "\n",
    "    indices = torch.combinations(torch.arange(adjacency_matrix.shape[0])).to(device)\n",
    "    first_embeddings = adjacency_matrix[indices[:,0]]\n",
    "    second_embeddings = adjacency_matrix[indices[:,1]]\n",
    "    similarities = torch.nn.functional.cosine_similarity(first_embeddings, second_embeddings, dim=1)\n",
    "    return indices[similarities > min_similarity].T"
   ]
  },
  {
   "cell_type": "code",
   "execution_count": 6,
   "metadata": {},
   "outputs": [
    {
     "data": {
      "text/plain": [
       "torch.Size([2, 273191])"
      ]
     },
     "execution_count": 6,
     "metadata": {},
     "output_type": "execute_result"
    }
   ],
   "source": [
    "new_edges = make_similar_edges(author_to_conference, min_similarity=0.99)\n",
    "new_edges.shape"
   ]
  },
  {
   "cell_type": "code",
   "execution_count": 7,
   "metadata": {},
   "outputs": [],
   "source": [
    "data['author', 'to', 'author'].edge_index = new_edges"
   ]
  },
  {
   "cell_type": "code",
   "execution_count": 8,
   "metadata": {},
   "outputs": [
    {
     "data": {
      "text/plain": [
       "HeteroData(\n",
       "  author={\n",
       "    x=[4057, 334],\n",
       "    y=[4057],\n",
       "    train_mask=[4057],\n",
       "    val_mask=[4057],\n",
       "    test_mask=[4057],\n",
       "  },\n",
       "  paper={ x=[14328, 4231] },\n",
       "  term={ x=[7723, 50] },\n",
       "  conference={\n",
       "    num_nodes=20,\n",
       "    x=[20, 1],\n",
       "  },\n",
       "  (author, to, paper)={ edge_index=[2, 19645] },\n",
       "  (paper, to, author)={ edge_index=[2, 19645] },\n",
       "  (paper, to, term)={ edge_index=[2, 85810] },\n",
       "  (paper, to, conference)={ edge_index=[2, 14328] },\n",
       "  (term, to, paper)={ edge_index=[2, 85810] },\n",
       "  (conference, to, paper)={ edge_index=[2, 14328] },\n",
       "  (author, to, author)={ edge_index=[2, 273191] }\n",
       ")"
      ]
     },
     "execution_count": 8,
     "metadata": {},
     "output_type": "execute_result"
    }
   ],
   "source": [
    "data"
   ]
  },
  {
   "cell_type": "code",
   "execution_count": null,
   "metadata": {},
   "outputs": [],
   "source": []
  },
  {
   "cell_type": "code",
   "execution_count": 9,
   "metadata": {},
   "outputs": [
    {
     "name": "stdout",
     "output_type": "stream",
     "text": [
      "Enhanced Baseline: Best Epoch: 16 Train: 1.0000, Val: 0.9025, Test: 0.8978\n"
     ]
    }
   ],
   "source": [
    "graph_learning.set_seed()\n",
    "data_copy = deepcopy(data)\n",
    "data_copy.to(device)\n",
    "model, optimizer = graph_learning.init_parameters(data_copy, device)\n",
    "train_accs, val_accs, test_accs = [],[],[]\n",
    "for epoch in range(1, 100):\n",
    "    loss = graph_learning.train_epoch(data=data_copy, model=model, optimizer=optimizer)\n",
    "    train_acc, val_acc, test_acc = graph_learning.test_epoch(data = data_copy, model=model)\n",
    "    train_accs.append(train_acc)\n",
    "    val_accs.append(val_acc)\n",
    "    test_accs.append(test_acc)\n",
    "best_epoch = max(enumerate(val_accs),key=lambda x: x[1])[0]\n",
    "train_acc, val_acc, test_acc = train_accs[best_epoch], val_accs[best_epoch], test_accs[best_epoch]\n",
    "print(f'Enhanced Baseline: Best Epoch: {best_epoch} Train: {train_acc:.4f}, '\n",
    "        f'Val: {val_acc:.4f}, Test: {test_acc:.4f}')"
   ]
  },
  {
   "cell_type": "code",
   "execution_count": 10,
   "metadata": {},
   "outputs": [
    {
     "name": "stdout",
     "output_type": "stream",
     "text": [
      "Enhanced Sparsified: Best Epoch: 10 Train: 0.9925, Val: 0.9000, Test: 0.9021\n"
     ]
    }
   ],
   "source": [
    "graph_learning.set_seed()\n",
    "data_copy = deepcopy(data)\n",
    "data_copy.to(device)\n",
    "data_copy = graph_polluters.remove_edges(data_copy, 0.5)\n",
    "model, optimizer = graph_learning.init_parameters(data_copy, device)\n",
    "train_accs, val_accs, test_accs = [],[],[]\n",
    "for epoch in range(1, 100):\n",
    "    loss = graph_learning.train_epoch(data=data_copy, model=model, optimizer=optimizer)\n",
    "    train_acc, val_acc, test_acc = graph_learning.test_epoch(data = data_copy, model=model)\n",
    "    train_accs.append(train_acc)\n",
    "    val_accs.append(val_acc)\n",
    "    test_accs.append(test_acc)\n",
    "best_epoch = max(enumerate(val_accs),key=lambda x: x[1])[0]\n",
    "train_acc, val_acc, test_acc = train_accs[best_epoch], val_accs[best_epoch], test_accs[best_epoch]\n",
    "print(f'Enhanced Sparsified: Best Epoch: {best_epoch} Train: {train_acc:.4f}, '\n",
    "        f'Val: {val_acc:.4f}, Test: {test_acc:.4f}')"
   ]
  },
  {
   "cell_type": "code",
   "execution_count": null,
   "metadata": {},
   "outputs": [],
   "source": []
  }
 ],
 "metadata": {
  "kernelspec": {
   "display_name": "my-env",
   "language": "python",
   "name": "python3"
  },
  "language_info": {
   "codemirror_mode": {
    "name": "ipython",
    "version": 3
   },
   "file_extension": ".py",
   "mimetype": "text/x-python",
   "name": "python",
   "nbconvert_exporter": "python",
   "pygments_lexer": "ipython3",
   "version": "3.12.2"
  }
 },
 "nbformat": 4,
 "nbformat_minor": 2
}
